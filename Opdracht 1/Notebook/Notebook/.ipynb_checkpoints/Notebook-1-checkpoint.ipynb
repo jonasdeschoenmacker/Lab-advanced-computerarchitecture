{
 "cells": [
  {
   "cell_type": "markdown",
   "metadata": {},
   "source": [
    "# *Notebook #1* - First application: GPUs, CUDA, and Python + Numba\n",
    "\n",
    "\n",
    "## Introduction\n",
    "\n",
    "*This is the first out of three notebooks aimed at introducing you to the core concepts of graphics processing units (GPUs) and walking you through the basics of general-purpose computing on GPUs (GPGPU).*\n",
    "\n",
    "Compared to a CPU, a GPU excells in procesing a large number of instructions simultaneously. Its **large amount of processing cores** gives it the ability to execute several thousand, if not million, threads in **parallel**. Using the right tools and correct reasoning during application design, this can yield a greater instruction througput, and decrease the time delay for processing large datasets. Be it images (video frames), elecric signal measurements, or any other domain-specific information.\n",
    "\n",
    "<!-- ![GPU vs CPU](./Image/gpu-vs-cpu.png){ width=\"100px\"} -->\n",
    "<img src=\"./Image/gpu-vs-cpu.png\" alt=\"GPU vs CPU\" style=\"width: 750px; padding: 20px\"/>\n",
    "\n",
    "Whether an AMD, ARM, a Qualcomm, or any other GPU can probably be interfaced using OpenGL/OpenCL, this course is structured around Nvidia GPUs and the CUDA API.\n",
    "\n",
    "\n",
    "\n",
    "### CUDA\n",
    "\n",
    "Owing to the efforts made by Nvidia, several open-source communities, and a broad userbase, you can interface Nvidia GPUs through the CUDA API using **a host of programming languages**. All of this makes it easy to start writing and executing parallel code. You can think of the GPU as a step between a CPU and an FPGA - execute lots of instructions in parallel, but you get to stay within the comfort zone of your beloved IDE and programming language.\n",
    "\n",
    "<img src=\"./Image/cuda-programming-languages.png\" alt=\"Programming languages with CUDA support.\" style=\"width: 750px; padding: 20px\"/>\n",
    "\n",
    "\n",
    "\n",
    "### GeForce GT 730\n",
    "\n",
    "You will be using the GeForce GT 730 model, which you verify check by calling `nvidia-smi` in the terminal. It is based on the Kepler architecture and supports compute capability 3.5. Keep this in mind when debugging and looking up the specs of you GPU.\n",
    "\n",
    "\n",
    "### Python + Numba\n",
    "\n",
    "Versatile and with lots of available add-ons, Python is growing in popularity accross various sectors, including GPGPU. Being an interpreted language, it's easy to run over and over again, while the **debugging** capabilities of IDEs such as **Pycharm**, and the available **plotting** libraries make it easy to interpret and present the performance of you application.\n",
    "\n",
    "Since CUDA was initially intended for C, C++, and Fortran application, we need to fit an **additional compiler** between Python and CUDA. For that purpose we will be using **Numba** - a straightforward Python compiler. It's best to get familiar with it on an example.\n",
    "\n",
    "\n",
    "\n",
    "### Jupyter Notebook\n",
    "\n",
    "The document you are looking at is called a Jupyter Notebook. It's used for writing and running Python applications from the browser. You can always start a fresh file by clicking `File > New Notebook > Python 3`.\n",
    "It should regularly save you file, but feel free to do so manually every once in a while. \n",
    "\n",
    "Supposing you are running Jupyter Notebooks using Anaconda and the GCA environment, your can also write and run your code from a Notebook, instead of in an IDE (Pycharm), and get the same results."
   ]
  },
  {
   "cell_type": "markdown",
   "metadata": {},
   "source": [
    "## Calculating the histogram of a sampled signal\n",
    "\n",
    "To get acquainted with GPU programming, we will define a function that calculates the histogram of a sampled signal using parallel processing. We start off by implementing the desired funciton on the CPU, which will serve us as the baseline for evaluating the performance of the GPU."
   ]
  },
  {
   "cell_type": "markdown",
   "metadata": {},
   "source": [
    "### Define and plot the input signal\n",
    "\n",
    "First define the sampled signal a plot it:"
   ]
  },
  {
   "cell_type": "code",
   "execution_count": 1,
   "metadata": {
    "scrolled": true
   },
   "outputs": [
    {
     "data": {
      "image/png": "[encoded data removed]",
      "text/plain": [
       "<Figure size 432x288 with 1 Axes>"
      ]
     },
     "metadata": {
      "needs_background": "light"
     },
     "output_type": "display_data"
    }
   ],
   "source": [
    "import numpy as np # Arrays in Python\n",
    "from matplotlib import pyplot as plt # Plotting library\n",
    "\n",
    "# Repeatable results\n",
    "np.random.seed(0)\n",
    "\n",
    "# Define the observed signal\n",
    "signal = np.random.normal(size=8_192, loc=0, scale=1).astype(np.float32)\n",
    "\n",
    "# Plot the signal\n",
    "plt.plot(signal)\n",
    "plt.show()"
   ]
  },
  {
   "cell_type": "markdown",
   "metadata": {},
   "source": [
    "### CPU: Calculate the histogram\n",
    "\n",
    "Next we define a CPU function and use it to calculate the histogram of the above signal:"
   ]
  },
  {
   "cell_type": "code",
   "execution_count": 2,
   "metadata": {},
   "outputs": [
    {
     "data": {
      "image/png": "[encoded data removed]",
      "text/plain": [
       "<Figure size 432x288 with 1 Axes>"
      ]
     },
     "metadata": {
      "needs_background": "light"
     },
     "output_type": "display_data"
    }
   ],
   "source": [
    "def calc_histogram_on_cpu(samples, xmin, xmax, histogram_out):\n",
    "    '''Use the CPU to generate a histogram of the sampled signal within the defined boundries.\n",
    "    \n",
    "    The resulting histogram will contian the following values: [xmin, xmax)\n",
    "    \n",
    "    :param x: Observed signal.\n",
    "    :param xmin: Minimal observed value contained in the histogram.\n",
    "    :param xmax: Maximal observed value contained in the histogram.\n",
    "    :param histogram_out: The calculated histogram.\n",
    "    '''\n",
    "    \n",
    "    # Calc the resolution of the histogram\n",
    "    nbins = histogram_out.shape[0]\n",
    "    bin_width = (xmax - xmin) / nbins\n",
    "\n",
    "    # Associate each sample in the interval [xmin, xmax) with a bin and update the histogram. Skip outliers.\n",
    "    for sample in samples:\n",
    "        bin_number = int((sample - xmin ) / bin_width)\n",
    "        if bin_number >= 0 and bin_number < histogram_out.shape[0]:\n",
    "            histogram_out[bin_number] += 1\n",
    "\n",
    "\n",
    "# Define the range\n",
    "xmin = -4\n",
    "xmax = 4\n",
    "\n",
    "# Number of histogram elements = bins\n",
    "nbins = 100\n",
    "\n",
    "# Initiate an empty histogram\n",
    "histogram_out = np.zeros(nbins)\n",
    "\n",
    "# Note: the histogram array is passed by reference and updated in the function\n",
    "calc_histogram_on_cpu(signal, xmin, xmax, histogram_out)\n",
    "\n",
    "\n",
    "# Calculate x-axis values for plotting reasons (we also need to recalculate the bin width)\n",
    "bin_width = (xmax - xmin) / nbins\n",
    "x_vals = np.linspace( xmin, xmax, nbins, endpoint=False ) + bin_width/2\n",
    "\n",
    "# Plot the histogram\n",
    "plt.bar( x_vals, histogram_out, width=bin_width )\n",
    "plt.show()"
   ]
  },
  {
   "cell_type": "markdown",
   "metadata": {},
   "source": [
    "### Timing the kernel function\n",
    "\n",
    "An important aspect of evaluating the performance of our code will be measuring its execution time. Running our code within an OS also means that the execution time isn't entirelly deterministic. We can use the built-in IPython (Jupyter Notebook) timing function which gives us some flexibility in how many times and in what way we can time our functions:"
   ]
  },
  {
   "cell_type": "code",
   "execution_count": 3,
   "metadata": {},
   "outputs": [
    {
     "name": "stdout",
     "output_type": "stream",
     "text": [
      "26.3 ms ± 753 µs per loop (mean ± std. dev. of 7 runs, 10 loops each)\n"
     ]
    }
   ],
   "source": [
    "%timeit calc_histogram_on_cpu(signal, xmin, xmax, histogram_out)"
   ]
  },
  {
   "cell_type": "markdown",
   "metadata": {},
   "source": [
    "### GPU: Calculate the histogram\n",
    "\n",
    "The CPU calculated the histogram faster than saying *Geavanceerde computerarchitectuur*, but a lot of deadlines would be violated if we ran it in a real-time app. Let's look at ways of improving the execution speed by porting the code to a GPU.\n",
    "\n",
    "For that we need to define a **kernel**. Merely a function that is run on the GPU, a kernel is executed by a single thread. At this stage we also need to start using Numba in order to compile the kernel before running it on the GPU. To highlight this, we've switched to manual execution timing."
   ]
  },
  {
   "cell_type": "code",
   "execution_count": 4,
   "metadata": {},
   "outputs": [
    {
     "ename": "NvvmError",
     "evalue": "Failed to compile\n\n<unnamed> (45, 17): parse expected binary operation in atomicrmw\nNVVM_ERROR_COMPILATION",
     "output_type": "error",
     "traceback": [
      "\u001b[1;31m---------------------------------------------------------------------------\u001b[0m",
      "\u001b[1;31mNvvmError\u001b[0m                                 Traceback (most recent call last)",
      "\u001b[1;32m<ipython-input-4-da631ccbc5fc>\u001b[0m in \u001b[0;36m<module>\u001b[1;34m\u001b[0m\n\u001b[0;32m     24\u001b[0m \u001b[1;31m# Call and time the kernel function\u001b[0m\u001b[1;33m\u001b[0m\u001b[1;33m\u001b[0m\u001b[1;33m\u001b[0m\u001b[0m\n\u001b[0;32m     25\u001b[0m \u001b[0mstart\u001b[0m \u001b[1;33m=\u001b[0m \u001b[0mtime\u001b[0m\u001b[1;33m.\u001b[0m\u001b[0mtime\u001b[0m\u001b[1;33m(\u001b[0m\u001b[1;33m)\u001b[0m\u001b[1;33m\u001b[0m\u001b[1;33m\u001b[0m\u001b[0m\n\u001b[1;32m---> 26\u001b[1;33m \u001b[0mkernel\u001b[0m\u001b[1;33m[\u001b[0m\u001b[1;36m1\u001b[0m\u001b[1;33m,\u001b[0m\u001b[1;36m1\u001b[0m\u001b[1;33m]\u001b[0m\u001b[1;33m(\u001b[0m\u001b[0msignal\u001b[0m\u001b[1;33m,\u001b[0m \u001b[0mxmin\u001b[0m\u001b[1;33m,\u001b[0m \u001b[0mxmax\u001b[0m\u001b[1;33m,\u001b[0m \u001b[0mhistogram_out\u001b[0m\u001b[1;33m)\u001b[0m\u001b[1;33m\u001b[0m\u001b[1;33m\u001b[0m\u001b[0m\n\u001b[0m\u001b[0;32m     27\u001b[0m \u001b[0mprint\u001b[0m\u001b[1;33m(\u001b[0m\u001b[0mtime\u001b[0m\u001b[1;33m.\u001b[0m\u001b[0mtime\u001b[0m\u001b[1;33m(\u001b[0m\u001b[1;33m)\u001b[0m \u001b[1;33m-\u001b[0m \u001b[0mstart\u001b[0m\u001b[1;33m)\u001b[0m\u001b[1;33m\u001b[0m\u001b[1;33m\u001b[0m\u001b[0m\n\u001b[0;32m     28\u001b[0m \u001b[1;33m\u001b[0m\u001b[0m\n",
      "\u001b[1;32m~\\anaconda3\\lib\\site-packages\\numba\\cuda\\compiler.py\u001b[0m in \u001b[0;36m__call__\u001b[1;34m(self, *args)\u001b[0m\n\u001b[0;32m    831\u001b[0m         \u001b[0mSpecialize\u001b[0m \u001b[1;32mand\u001b[0m \u001b[0minvoke\u001b[0m \u001b[0mthis\u001b[0m \u001b[0mkernel\u001b[0m \u001b[1;32mwith\u001b[0m \u001b[1;33m*\u001b[0m\u001b[0margs\u001b[0m\u001b[1;33m*\u001b[0m\u001b[1;33m.\u001b[0m\u001b[1;33m\u001b[0m\u001b[1;33m\u001b[0m\u001b[0m\n\u001b[0;32m    832\u001b[0m         '''\n\u001b[1;32m--> 833\u001b[1;33m         \u001b[0mkernel\u001b[0m \u001b[1;33m=\u001b[0m \u001b[0mself\u001b[0m\u001b[1;33m.\u001b[0m\u001b[0mspecialize\u001b[0m\u001b[1;33m(\u001b[0m\u001b[1;33m*\u001b[0m\u001b[0margs\u001b[0m\u001b[1;33m)\u001b[0m\u001b[1;33m\u001b[0m\u001b[1;33m\u001b[0m\u001b[0m\n\u001b[0m\u001b[0;32m    834\u001b[0m         \u001b[0mcfg\u001b[0m \u001b[1;33m=\u001b[0m \u001b[0mkernel\u001b[0m\u001b[1;33m[\u001b[0m\u001b[0mself\u001b[0m\u001b[1;33m.\u001b[0m\u001b[0mgriddim\u001b[0m\u001b[1;33m,\u001b[0m \u001b[0mself\u001b[0m\u001b[1;33m.\u001b[0m\u001b[0mblockdim\u001b[0m\u001b[1;33m,\u001b[0m \u001b[0mself\u001b[0m\u001b[1;33m.\u001b[0m\u001b[0mstream\u001b[0m\u001b[1;33m,\u001b[0m \u001b[0mself\u001b[0m\u001b[1;33m.\u001b[0m\u001b[0msharedmem\u001b[0m\u001b[1;33m]\u001b[0m\u001b[1;33m\u001b[0m\u001b[1;33m\u001b[0m\u001b[0m\n\u001b[0;32m    835\u001b[0m         \u001b[0mcfg\u001b[0m\u001b[1;33m(\u001b[0m\u001b[1;33m*\u001b[0m\u001b[0margs\u001b[0m\u001b[1;33m)\u001b[0m\u001b[1;33m\u001b[0m\u001b[1;33m\u001b[0m\u001b[0m\n",
      "\u001b[1;32m~\\anaconda3\\lib\\site-packages\\numba\\cuda\\compiler.py\u001b[0m in \u001b[0;36mspecialize\u001b[1;34m(self, *args)\u001b[0m\n\u001b[0;32m    842\u001b[0m         argtypes = tuple(\n\u001b[0;32m    843\u001b[0m             [self.typingctx.resolve_argument_type(a) for a in args])\n\u001b[1;32m--> 844\u001b[1;33m         \u001b[0mkernel\u001b[0m \u001b[1;33m=\u001b[0m \u001b[0mself\u001b[0m\u001b[1;33m.\u001b[0m\u001b[0mcompile\u001b[0m\u001b[1;33m(\u001b[0m\u001b[0margtypes\u001b[0m\u001b[1;33m)\u001b[0m\u001b[1;33m\u001b[0m\u001b[1;33m\u001b[0m\u001b[0m\n\u001b[0m\u001b[0;32m    845\u001b[0m         \u001b[1;32mreturn\u001b[0m \u001b[0mkernel\u001b[0m\u001b[1;33m\u001b[0m\u001b[1;33m\u001b[0m\u001b[0m\n\u001b[0;32m    846\u001b[0m \u001b[1;33m\u001b[0m\u001b[0m\n",
      "\u001b[1;32m~\\anaconda3\\lib\\site-packages\\numba\\cuda\\compiler.py\u001b[0m in \u001b[0;36mcompile\u001b[1;34m(self, sig)\u001b[0m\n\u001b[0;32m    861\u001b[0m             \u001b[0mself\u001b[0m\u001b[1;33m.\u001b[0m\u001b[0mdefinitions\u001b[0m\u001b[1;33m[\u001b[0m\u001b[1;33m(\u001b[0m\u001b[0mcc\u001b[0m\u001b[1;33m,\u001b[0m \u001b[0margtypes\u001b[0m\u001b[1;33m)\u001b[0m\u001b[1;33m]\u001b[0m \u001b[1;33m=\u001b[0m \u001b[0mkernel\u001b[0m\u001b[1;33m\u001b[0m\u001b[1;33m\u001b[0m\u001b[0m\n\u001b[0;32m    862\u001b[0m             \u001b[1;32mif\u001b[0m \u001b[0mself\u001b[0m\u001b[1;33m.\u001b[0m\u001b[0mbind\u001b[0m\u001b[1;33m:\u001b[0m\u001b[1;33m\u001b[0m\u001b[1;33m\u001b[0m\u001b[0m\n\u001b[1;32m--> 863\u001b[1;33m                 \u001b[0mkernel\u001b[0m\u001b[1;33m.\u001b[0m\u001b[0mbind\u001b[0m\u001b[1;33m(\u001b[0m\u001b[1;33m)\u001b[0m\u001b[1;33m\u001b[0m\u001b[1;33m\u001b[0m\u001b[0m\n\u001b[0m\u001b[0;32m    864\u001b[0m         \u001b[1;32mreturn\u001b[0m \u001b[0mkernel\u001b[0m\u001b[1;33m\u001b[0m\u001b[1;33m\u001b[0m\u001b[0m\n\u001b[0;32m    865\u001b[0m \u001b[1;33m\u001b[0m\u001b[0m\n",
      "\u001b[1;32m~\\anaconda3\\lib\\site-packages\\numba\\cuda\\compiler.py\u001b[0m in \u001b[0;36mbind\u001b[1;34m(self)\u001b[0m\n\u001b[0;32m    602\u001b[0m         \u001b[0mForce\u001b[0m \u001b[0mbinding\u001b[0m \u001b[0mto\u001b[0m \u001b[0mcurrent\u001b[0m \u001b[0mCUDA\u001b[0m \u001b[0mcontext\u001b[0m\u001b[1;33m\u001b[0m\u001b[1;33m\u001b[0m\u001b[0m\n\u001b[0;32m    603\u001b[0m         \"\"\"\n\u001b[1;32m--> 604\u001b[1;33m         \u001b[0mself\u001b[0m\u001b[1;33m.\u001b[0m\u001b[0m_func\u001b[0m\u001b[1;33m.\u001b[0m\u001b[0mget\u001b[0m\u001b[1;33m(\u001b[0m\u001b[1;33m)\u001b[0m\u001b[1;33m\u001b[0m\u001b[1;33m\u001b[0m\u001b[0m\n\u001b[0m\u001b[0;32m    605\u001b[0m \u001b[1;33m\u001b[0m\u001b[0m\n\u001b[0;32m    606\u001b[0m     \u001b[1;33m@\u001b[0m\u001b[0mproperty\u001b[0m\u001b[1;33m\u001b[0m\u001b[1;33m\u001b[0m\u001b[0m\n",
      "\u001b[1;32m~\\anaconda3\\lib\\site-packages\\numba\\cuda\\compiler.py\u001b[0m in \u001b[0;36mget\u001b[1;34m(self)\u001b[0m\n\u001b[0;32m    478\u001b[0m         \u001b[0mcufunc\u001b[0m \u001b[1;33m=\u001b[0m \u001b[0mself\u001b[0m\u001b[1;33m.\u001b[0m\u001b[0mcache\u001b[0m\u001b[1;33m.\u001b[0m\u001b[0mget\u001b[0m\u001b[1;33m(\u001b[0m\u001b[0mdevice\u001b[0m\u001b[1;33m.\u001b[0m\u001b[0mid\u001b[0m\u001b[1;33m)\u001b[0m\u001b[1;33m\u001b[0m\u001b[1;33m\u001b[0m\u001b[0m\n\u001b[0;32m    479\u001b[0m         \u001b[1;32mif\u001b[0m \u001b[0mcufunc\u001b[0m \u001b[1;32mis\u001b[0m \u001b[1;32mNone\u001b[0m\u001b[1;33m:\u001b[0m\u001b[1;33m\u001b[0m\u001b[1;33m\u001b[0m\u001b[0m\n\u001b[1;32m--> 480\u001b[1;33m             \u001b[0mptx\u001b[0m \u001b[1;33m=\u001b[0m \u001b[0mself\u001b[0m\u001b[1;33m.\u001b[0m\u001b[0mptx\u001b[0m\u001b[1;33m.\u001b[0m\u001b[0mget\u001b[0m\u001b[1;33m(\u001b[0m\u001b[1;33m)\u001b[0m\u001b[1;33m\u001b[0m\u001b[1;33m\u001b[0m\u001b[0m\n\u001b[0m\u001b[0;32m    481\u001b[0m \u001b[1;33m\u001b[0m\u001b[0m\n\u001b[0;32m    482\u001b[0m             \u001b[1;31m# Link\u001b[0m\u001b[1;33m\u001b[0m\u001b[1;33m\u001b[0m\u001b[1;33m\u001b[0m\u001b[0m\n",
      "\u001b[1;32m~\\anaconda3\\lib\\site-packages\\numba\\cuda\\compiler.py\u001b[0m in \u001b[0;36mget\u001b[1;34m(self)\u001b[0m\n\u001b[0;32m    448\u001b[0m         \u001b[1;32mif\u001b[0m \u001b[0mptx\u001b[0m \u001b[1;32mis\u001b[0m \u001b[1;32mNone\u001b[0m\u001b[1;33m:\u001b[0m\u001b[1;33m\u001b[0m\u001b[1;33m\u001b[0m\u001b[0m\n\u001b[0;32m    449\u001b[0m             \u001b[0march\u001b[0m \u001b[1;33m=\u001b[0m \u001b[0mnvvm\u001b[0m\u001b[1;33m.\u001b[0m\u001b[0mget_arch_option\u001b[0m\u001b[1;33m(\u001b[0m\u001b[1;33m*\u001b[0m\u001b[0mcc\u001b[0m\u001b[1;33m)\u001b[0m\u001b[1;33m\u001b[0m\u001b[1;33m\u001b[0m\u001b[0m\n\u001b[1;32m--> 450\u001b[1;33m             ptx = nvvm.llvm_to_ptx(self.llvmir, opt=3, arch=arch,\n\u001b[0m\u001b[0;32m    451\u001b[0m                                    **self._extra_options)\n\u001b[0;32m    452\u001b[0m             \u001b[0mself\u001b[0m\u001b[1;33m.\u001b[0m\u001b[0mcache\u001b[0m\u001b[1;33m[\u001b[0m\u001b[0mcc\u001b[0m\u001b[1;33m]\u001b[0m \u001b[1;33m=\u001b[0m \u001b[0mptx\u001b[0m\u001b[1;33m\u001b[0m\u001b[1;33m\u001b[0m\u001b[0m\n",
      "\u001b[1;32m~\\anaconda3\\lib\\site-packages\\numba\\cuda\\cudadrv\\nvvm.py\u001b[0m in \u001b[0;36mllvm_to_ptx\u001b[1;34m(llvmir, **opts)\u001b[0m\n\u001b[0;32m    513\u001b[0m     \u001b[0mcu\u001b[0m\u001b[1;33m.\u001b[0m\u001b[0madd_module\u001b[0m\u001b[1;33m(\u001b[0m\u001b[0mlibdevice\u001b[0m\u001b[1;33m.\u001b[0m\u001b[0mget\u001b[0m\u001b[1;33m(\u001b[0m\u001b[1;33m)\u001b[0m\u001b[1;33m)\u001b[0m\u001b[1;33m\u001b[0m\u001b[1;33m\u001b[0m\u001b[0m\n\u001b[0;32m    514\u001b[0m \u001b[1;33m\u001b[0m\u001b[0m\n\u001b[1;32m--> 515\u001b[1;33m     \u001b[0mptx\u001b[0m \u001b[1;33m=\u001b[0m \u001b[0mcu\u001b[0m\u001b[1;33m.\u001b[0m\u001b[0mcompile\u001b[0m\u001b[1;33m(\u001b[0m\u001b[1;33m**\u001b[0m\u001b[0mopts\u001b[0m\u001b[1;33m)\u001b[0m\u001b[1;33m\u001b[0m\u001b[1;33m\u001b[0m\u001b[0m\n\u001b[0m\u001b[0;32m    516\u001b[0m     \u001b[1;31m# XXX remove debug_pubnames seems to be necessary sometimes\u001b[0m\u001b[1;33m\u001b[0m\u001b[1;33m\u001b[0m\u001b[1;33m\u001b[0m\u001b[0m\n\u001b[0;32m    517\u001b[0m     \u001b[1;32mreturn\u001b[0m \u001b[0mpatch_ptx_debug_pubnames\u001b[0m\u001b[1;33m(\u001b[0m\u001b[0mptx\u001b[0m\u001b[1;33m)\u001b[0m\u001b[1;33m\u001b[0m\u001b[1;33m\u001b[0m\u001b[0m\n",
      "\u001b[1;32m~\\anaconda3\\lib\\site-packages\\numba\\cuda\\cudadrv\\nvvm.py\u001b[0m in \u001b[0;36mcompile\u001b[1;34m(self, **options)\u001b[0m\n\u001b[0;32m    230\u001b[0m                                           for x in opts])\n\u001b[0;32m    231\u001b[0m         \u001b[0merr\u001b[0m \u001b[1;33m=\u001b[0m \u001b[0mself\u001b[0m\u001b[1;33m.\u001b[0m\u001b[0mdriver\u001b[0m\u001b[1;33m.\u001b[0m\u001b[0mnvvmCompileProgram\u001b[0m\u001b[1;33m(\u001b[0m\u001b[0mself\u001b[0m\u001b[1;33m.\u001b[0m\u001b[0m_handle\u001b[0m\u001b[1;33m,\u001b[0m \u001b[0mlen\u001b[0m\u001b[1;33m(\u001b[0m\u001b[0mopts\u001b[0m\u001b[1;33m)\u001b[0m\u001b[1;33m,\u001b[0m \u001b[0mc_opts\u001b[0m\u001b[1;33m)\u001b[0m\u001b[1;33m\u001b[0m\u001b[1;33m\u001b[0m\u001b[0m\n\u001b[1;32m--> 232\u001b[1;33m         \u001b[0mself\u001b[0m\u001b[1;33m.\u001b[0m\u001b[0m_try_error\u001b[0m\u001b[1;33m(\u001b[0m\u001b[0merr\u001b[0m\u001b[1;33m,\u001b[0m \u001b[1;34m'Failed to compile\\n'\u001b[0m\u001b[1;33m)\u001b[0m\u001b[1;33m\u001b[0m\u001b[1;33m\u001b[0m\u001b[0m\n\u001b[0m\u001b[0;32m    233\u001b[0m \u001b[1;33m\u001b[0m\u001b[0m\n\u001b[0;32m    234\u001b[0m         \u001b[1;31m# get result\u001b[0m\u001b[1;33m\u001b[0m\u001b[1;33m\u001b[0m\u001b[1;33m\u001b[0m\u001b[0m\n",
      "\u001b[1;32m~\\anaconda3\\lib\\site-packages\\numba\\cuda\\cudadrv\\nvvm.py\u001b[0m in \u001b[0;36m_try_error\u001b[1;34m(self, err, msg)\u001b[0m\n\u001b[0;32m    248\u001b[0m \u001b[1;33m\u001b[0m\u001b[0m\n\u001b[0;32m    249\u001b[0m     \u001b[1;32mdef\u001b[0m \u001b[0m_try_error\u001b[0m\u001b[1;33m(\u001b[0m\u001b[0mself\u001b[0m\u001b[1;33m,\u001b[0m \u001b[0merr\u001b[0m\u001b[1;33m,\u001b[0m \u001b[0mmsg\u001b[0m\u001b[1;33m)\u001b[0m\u001b[1;33m:\u001b[0m\u001b[1;33m\u001b[0m\u001b[1;33m\u001b[0m\u001b[0m\n\u001b[1;32m--> 250\u001b[1;33m         \u001b[0mself\u001b[0m\u001b[1;33m.\u001b[0m\u001b[0mdriver\u001b[0m\u001b[1;33m.\u001b[0m\u001b[0mcheck_error\u001b[0m\u001b[1;33m(\u001b[0m\u001b[0merr\u001b[0m\u001b[1;33m,\u001b[0m \u001b[1;34m\"%s\\n%s\"\u001b[0m \u001b[1;33m%\u001b[0m \u001b[1;33m(\u001b[0m\u001b[0mmsg\u001b[0m\u001b[1;33m,\u001b[0m \u001b[0mself\u001b[0m\u001b[1;33m.\u001b[0m\u001b[0mget_log\u001b[0m\u001b[1;33m(\u001b[0m\u001b[1;33m)\u001b[0m\u001b[1;33m)\u001b[0m\u001b[1;33m)\u001b[0m\u001b[1;33m\u001b[0m\u001b[1;33m\u001b[0m\u001b[0m\n\u001b[0m\u001b[0;32m    251\u001b[0m \u001b[1;33m\u001b[0m\u001b[0m\n\u001b[0;32m    252\u001b[0m     \u001b[1;32mdef\u001b[0m \u001b[0mget_log\u001b[0m\u001b[1;33m(\u001b[0m\u001b[0mself\u001b[0m\u001b[1;33m)\u001b[0m\u001b[1;33m:\u001b[0m\u001b[1;33m\u001b[0m\u001b[1;33m\u001b[0m\u001b[0m\n",
      "\u001b[1;32m~\\anaconda3\\lib\\site-packages\\numba\\cuda\\cudadrv\\nvvm.py\u001b[0m in \u001b[0;36mcheck_error\u001b[1;34m(self, error, msg, exit)\u001b[0m\n\u001b[0;32m    138\u001b[0m                 \u001b[0msys\u001b[0m\u001b[1;33m.\u001b[0m\u001b[0mexit\u001b[0m\u001b[1;33m(\u001b[0m\u001b[1;36m1\u001b[0m\u001b[1;33m)\u001b[0m\u001b[1;33m\u001b[0m\u001b[1;33m\u001b[0m\u001b[0m\n\u001b[0;32m    139\u001b[0m             \u001b[1;32melse\u001b[0m\u001b[1;33m:\u001b[0m\u001b[1;33m\u001b[0m\u001b[1;33m\u001b[0m\u001b[0m\n\u001b[1;32m--> 140\u001b[1;33m                 \u001b[1;32mraise\u001b[0m \u001b[0mexc\u001b[0m\u001b[1;33m\u001b[0m\u001b[1;33m\u001b[0m\u001b[0m\n\u001b[0m\u001b[0;32m    141\u001b[0m \u001b[1;33m\u001b[0m\u001b[0m\n\u001b[0;32m    142\u001b[0m \u001b[1;33m\u001b[0m\u001b[0m\n",
      "\u001b[1;31mNvvmError\u001b[0m: Failed to compile\n\n<unnamed> (45, 17): parse expected binary operation in atomicrmw\nNVVM_ERROR_COMPILATION"
     ]
    }
   ],
   "source": [
    "import time\n",
    "\n",
    "from numba import cuda\n",
    "\n",
    "\n",
    "@cuda.jit\n",
    "def kernel(samples, xmin, xmax, histogram_out):\n",
    "    '''Use the GPU for generateing a histogram.'''\n",
    "\n",
    "    # Calc the resolution of the histogram\n",
    "    nbins = histogram_out.shape[0]\n",
    "    bin_width = (xmax - xmin) / nbins\n",
    "\n",
    "    # Associate each sample in the interval [xmin, xmax) with a bin and update the histogram. Skip outliers.\n",
    "    for sample in samples:\n",
    "        bin_number = int((sample - xmin) / bin_width)\n",
    "        if bin_number >= 0 and bin_number < histogram_out.shape[0]:\n",
    "            cuda.atomic.add(histogram_out, bin_number, 1)\n",
    "\n",
    "\n",
    "# Reset histogram back to zero\n",
    "histogram_out = np.zeros(nbins)\n",
    "\n",
    "# Call and time the kernel function\n",
    "start = time.time()\n",
    "kernel[1,1](signal, xmin, xmax, histogram_out)\n",
    "print(time.time() - start)\n",
    "\n",
    "# Repeat (copy-paste)\n",
    "start = time.time()\n",
    "kernel[1,1](signal, xmin, xmax, histogram_out)\n",
    "print(time.time() - start)"
   ]
  },
  {
   "cell_type": "markdown",
   "metadata": {},
   "source": [
    "Wait, the GPU is first horribly slow before outrunning the CPU? \n",
    "\n",
    "Executing the kernel function multiple times reveals a peak in the delay the first time since, unlike C, it isn't compiled-once-run-multiple-times, but it gets re-compiled everytime we run our code. Keep note of that when evaluating the performance of your code.\n",
    "\n",
    "The line containing the `@cuda.jit` decorator signals Numba that this is a compilable GPU kernel."
   ]
  },
  {
   "cell_type": "markdown",
   "metadata": {},
   "source": [
    "### Executing threads parallel\n",
    "\n",
    "If you've noticed, the above GPU-code iterates all signal samples **in sequence**, one after the other. That means we're only executing the kernel in a single thread. Actually, the extra bit between the function name and its arguments (`[1,1]`) defines that.\n",
    "\n",
    "The CUDA API grants the developer access to a pool of **threads** organized into blocks. Each **block** can have up to three dimensions, and the blocks themselves can are organized in a **grid** which can also span 3D. \n",
    "\n",
    "<img src=\"./Image/Threads-and-blocks.png\" alt=\"Threads and blocks\" style=\"width: 400px; padding: 20px\"/>\n",
    "\n",
    "Ideally, we would like break our input sequence into as many separate segments as possible, and run each of them in its own thread. With that in mind, let's see how to improve our kernel. For simplicity, we'll only be using one dimension in te following example.\n",
    "\n",
    "With a few minor modifications, we now run the kernel using 16 blocks of 512 blocks, giving us a total of 8192 threads - the sam number as the amount of signal samples. Because the same kernel function gets executed on each one of the parallel threads, we can now avoid looping over the samples and instead **only use the sample with the same index as that of the thread**. The statement `x = cuda.threadIdx.x + cuda.blockIdx.x * cuda.blockDim.x` calculates the thread's index within the entire grid."
   ]
  },
  {
   "cell_type": "code",
   "execution_count": null,
   "metadata": {},
   "outputs": [],
   "source": [
    "import time\n",
    "\n",
    "from numba import cuda\n",
    "\n",
    "\n",
    "@cuda.jit\n",
    "def kernel_parallel(samples, xmin, xmax, histogram_out):\n",
    "    '''Use the GPU for generateing a histogram. In parallel.'''\n",
    "\n",
    "    # Calculate the thread's absolute position within the grid\n",
    "    x = cuda.threadIdx.x + cuda.blockIdx.x * cuda.blockDim.x\n",
    "    \n",
    "    # Calc the resolution of the histogram\n",
    "    nbins = histogram_out.shape[0]\n",
    "    bin_width = (xmax - xmin) / nbins\n",
    "    \n",
    "    sample = samples[x]\n",
    "\n",
    "    # Associate each sample in the interval [xmin, xmax) with a bin and update the histogram. Skip outliers.\n",
    "    bin_number = int((sample - xmin) / bin_width)\n",
    "    if bin_number >= 0 and bin_number < histogram_out.shape[0]:\n",
    "            cuda.atomic.add(histogram_out, bin_number, 1) # Prevent race conditions\n",
    "\n",
    "\n",
    "start = time.time()\n",
    "kernel_parallel[16,512](signal, xmin, xmax, histogram_out)\n",
    "print(time.time() - start)\n",
    "\n",
    "start = time.time()\n",
    "kernel_parallel[16,512](signal, xmin, xmax, histogram_out)\n",
    "print(time.time() - start)"
   ]
  },
  {
   "cell_type": "markdown",
   "metadata": {},
   "source": [
    "Should be an improvement; although, to get a true comparison we need to run the two kernels several times. Because we **do not want to overload the system** and, potentially see how our computer freezes, we will define our own timing function which always waits for the kernel to finish before calling it again. This is called **synchronization**.\n",
    "\n",
    "A similar thing happens within the kernel in the line containing `cuda.atomic.add(histogram_out, bin_number, 1)`. Normally we could just write `histogram_out[bin_number] += 1`, which would triger the following operations:\n",
    "1. Get the current value `histogram_out[bin_number]`\n",
    "2. Increment the value you've just read (` += 1`)\n",
    "3. Write back to `histogram_out[bin_number]`\n",
    "\n",
    "Then when two threads run in parallel, but out of phase, they start to overwrite the results of one another and we start seeing *race conditions*. We use `cuda.atomic.add()` to prevent that by executing the above 3 steps in sequence."
   ]
  },
  {
   "cell_type": "code",
   "execution_count": null,
   "metadata": {},
   "outputs": [],
   "source": [
    "def synchronous_kernel_timeit( kernel, number=1, repeat=1 ):\n",
    "    \"\"\"Time a kernel function while synchronizing upon every function call.\n",
    "\n",
    "    :param kernel: Lambda function containing the kernel function (including all arguments)\n",
    "    :param number: Number of function calls in a single averaging interval\n",
    "    :param repeat: Number of repetitions\n",
    "    :return: List of timing results or a single value if repeat is equal to one\n",
    "    \"\"\"\n",
    "\n",
    "    times = []\n",
    "    for r in range(repeat):\n",
    "        start = time.time()\n",
    "        for n in range(number):\n",
    "            kernel()\n",
    "            cuda.synchronize() # Do not queue up, instead wait for all previous kernel launches to finish executing\n",
    "        stop = time.time()\n",
    "        times.append((stop - start) / number)\n",
    "    return times[0] if len(times)==1 else times\n",
    "\n",
    "\n",
    "t_seq = synchronous_kernel_timeit( lambda: kernel[1,1](signal, xmin, xmax, histogram_out), number=10)\n",
    "t_par = synchronous_kernel_timeit( lambda: kernel_parallel[16,512](signal, xmin, xmax, histogram_out), number=10)\n",
    "\n",
    "print( t_seq )\n",
    "print( t_par )\n"
   ]
  },
  {
   "cell_type": "markdown",
   "metadata": {},
   "source": [
    "Great, it pays to run multiple threads! Lastly let's plot all three histograms and check that the results match."
   ]
  },
  {
   "cell_type": "code",
   "execution_count": null,
   "metadata": {},
   "outputs": [],
   "source": [
    "funs = [\n",
    "    lambda x: calc_histogram_on_cpu(signal, xmin, xmax, x),\n",
    "    lambda x: kernel[1,1](signal, xmin, xmax, x),\n",
    "    lambda x: kernel_parallel[16,512](signal, xmin, xmax, x)\n",
    "]\n",
    "\n",
    "fig, ax = plt.subplots(1, 3, sharey=True)\n",
    "\n",
    "for i, fun in enumerate(funs):\n",
    "    histogram_out = np.zeros(nbins)\n",
    "    fun(histogram_out)\n",
    "    ax[i].plot( x_vals, histogram_out )\n",
    "    "
   ]
  },
  {
   "cell_type": "markdown",
   "metadata": {},
   "source": [
    "Nice! Now design your very own kernel and evaluate its performance."
   ]
  },
  {
   "cell_type": "markdown",
   "metadata": {},
   "source": [
    "## Assignment - Calculating a DFT\n",
    "\n",
    "### Baseline and helpers\n",
    "\n",
    "You have implemented a DFT function based on its definition:\n",
    "\n",
    "\n",
    "$X_k = \\sum_{n=0}^{N-1} x_n \\cdot ( \\cos{ \\frac{2\\pi kn}{N} } - i \\sin{ \\frac{2\\pi kn}{N} } )$\n",
    "\n",
    "\n",
    "It's not the most efficient piece of code so you want to optimize it by employing a GPU. Below is the CPU-based code, together with some other definitions to help you get an idea of how you can test the performance of your design."
   ]
  },
  {
   "cell_type": "code",
   "execution_count": null,
   "metadata": {},
   "outputs": [],
   "source": [
    "from math import sin, cos, pi\n",
    "\n",
    "\n",
    "def DFT_sequential(samples, frequencies):\n",
    "    \"\"\"Execute the DFT sequentially on the CPU.\n",
    "    \n",
    "    :param samples: An array containing discrete time domain signal samples.\n",
    "    :param frequencies: An empty array where the frequency components will be stored.\n",
    "    \"\"\"\n",
    "    \n",
    "    for k in range(frequencies.shape[0]):\n",
    "        for n in range(N):\n",
    "            frequencies[k] += samples[n] * ( cos( 2*pi * k * n / N ) - sin( 2*pi * k * n / N )*1j )\n",
    "            "
   ]
  },
  {
   "cell_type": "markdown",
   "metadata": {},
   "source": [
    "Now we supply the sequential funciton with an the input signal and measure the execution time. As a prerequisite, we first need to define the sampling rate and observation time. The input signal in this case is a sum of sinusoids with an added DC component."
   ]
  },
  {
   "cell_type": "code",
   "execution_count": null,
   "metadata": {},
   "outputs": [],
   "source": [
    "# Define the sampling rate and observation time\n",
    "SAMPLING_RATE_HZ = 100\n",
    "TIME_S = 5 # Use only integers for correct DFT results\n",
    "N = SAMPLING_RATE_HZ * TIME_S\n",
    "\n",
    "\n",
    "# Define sample times\n",
    "x = np.linspace(0, TIME_S, int(N), endpoint=False)\n",
    "\n",
    "# Define a group of signals and add them together\n",
    "sigs = [ np.sin(x * (2*pi) * (i+1) * 2 + i*pi/16) / (i+1) for i in range(24) ]\n",
    "sig_sum = np.array(sum(sigs) / len(sigs)) + 0.05\n",
    "\n",
    "\n",
    "# Initiate the empty frequency components\n",
    "frequencies = np.zeros(int(N/2+1), dtype=np.complex)\n",
    "\n",
    "\n",
    "# Time the sequential CPU function\n",
    "t = synchronous_kernel_timeit( lambda: DFT_sequential(sig_sum, frequencies), number=10 )\n",
    "print(t)\n"
   ]
  },
  {
   "cell_type": "markdown",
   "metadata": {},
   "source": [
    "That gives us the baseline that we wish to improve. When designing you code, feel free to experiment with other input waveforms, sampling rates, and observation times. Lastly we plot the results to check that the code functions as expected."
   ]
  },
  {
   "cell_type": "code",
   "execution_count": null,
   "metadata": {},
   "outputs": [],
   "source": [
    "# Reset the results and run the DFT\n",
    "frequencies = np.zeros(int(N/2+1), dtype=np.complex)\n",
    "DFT_sequential(sig_sum, frequencies)\n",
    "\n",
    "\n",
    "# Plot to evaluate whether the results are as expected\n",
    "fig, (ax1, ax2) = plt.subplots(1, 2)\n",
    "\n",
    "# Calculate the appropriate X-axis for the frequency components\n",
    "xf = np.linspace(0, SAMPLING_RATE_HZ/2, int(N/2+1), endpoint=True)\n",
    "\n",
    "# Plot all of the signal components and their sum\n",
    "for sig in sigs:\n",
    "    ax1.plot( x, sig, lw=0.5, color='#333333', alpha=0.5 )\n",
    "ax1.plot( x, sig_sum )\n",
    "\n",
    "# Plot the frequency components\n",
    "ax2.plot( xf, abs(frequencies), color='C3' )\n",
    "\n",
    "plt.show()"
   ]
  },
  {
   "cell_type": "markdown",
   "metadata": {},
   "source": [
    "### Report and deadline\n",
    "\n",
    "*Follow the bellow insructions and write a report when done. Explain what you have learned and critically assess the performance of your code. The report shouldn't exceed 3 pages (including figures). If you wish to share your code, include a link to the corresponding repository in your report or write the report in the form of a Notebook.*\n",
    "\n",
    "*Hand in your reports to alexander.marinsek@kuleuven.be by:*\n",
    "* *SA & GS: Sunday, 28/02/2021, 23:59 CET*\n",
    "* *ES: Sunday, 07/03/2021, 23:59 CET*\n",
    "\n",
    "\n",
    "### Instructions\n",
    "\n",
    "##### I. Implement your first CUDA kernel in Python\n",
    "\n",
    "1. Design a kernel function for calculating the DFT of a signal. Start off with the sequential code and accelerate it by omiting one of the *for loops*. Rely on parallel execution instead.\n",
    "2. Call your kernel function and verify its output. Use the same amount of threads as is the number of output frequency components. Start off with a few hundred signal samples. Keep in mind the limit of 1024 threads / block.\n",
    "3. Increase the DFT resolution and with it the number of parallel threads. Does an upper limit exist? If there you can't reach it (long prrocessing times, etc.) then reason about what the limit might be (take a look at the 3.5 compute capability specs on Wikipedia / Nvidia guide).\n",
    "\n",
    "\n",
    "##### II. Timing your code\n",
    "\n",
    "1. Use the supplied timing function to see how fast your code executes and compare it to the performance of the sequential CPU code. Remember to run the kernel at least once before in order for it to compile.\n",
    "2. Increase the DFT resolution and observe the GPU and CPU code processing times. What is the time difference?\n",
    "3. Now adapt your kernel function to run the entire DFT using a single thread on the GPU and observe the difference in processing time. What happens to the execution time?\n",
    "4. For an imput sequence of several hundred samples, execute the DFT on the GPU in a fully sequential manner (single thread), entirelly in parallel, and for a few values in between (a thread needs to loop over several but not all frequency components). Roughly how is the execution time dependent on the number of threads?\n",
    "5. (optional) Add '@numba.jit' before the CPU code's definition and see what happens to the timing results. How does the execution of the CPU code change?\n",
    "\n",
    "\n",
    "**Note:** CUDA kernels are able to run and understand Python built-in math functions and variables."
   ]
  },
  {
   "cell_type": "markdown",
   "metadata": {},
   "source": [
    "### Further reading\n",
    "\n",
    "* (CPU vs GPU, programming languages) CUDA programming guide: https://docs.nvidia.com/cuda/cuda-c-programming-guide/index.html\n",
    "* (CUDA basics) Computer Organization and Architecture, chapter 19.1: http://williamstallings.com/COA/\n",
    "* (Numba basics) Create CUDA kernels from Python using Numba and CuPy: https://www.youtube.com/watch?v=CQDsT81GyS8&ab_channel=PyData\n",
    "* (DFT) The Scientist and Engineer's Guide to Digital Signal Processingm, chapter 8: http://www.dspguide.com/"
   ]
  }
 ],
 "metadata": {
  "kernelspec": {
   "display_name": "Python 3",
   "language": "python",
   "name": "python3"
  },
  "language_info": {
   "codemirror_mode": {
    "name": "ipython",
    "version": 3
   },
   "file_extension": ".py",
   "mimetype": "text/x-python",
   "name": "python",
   "nbconvert_exporter": "python",
   "pygments_lexer": "ipython3",
   "version": "3.8.3"
  }
 },
 "nbformat": 4,
 "nbformat_minor": 5
}
